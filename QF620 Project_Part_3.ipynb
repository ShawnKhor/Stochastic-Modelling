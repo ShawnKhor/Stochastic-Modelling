{
 "cells": [
  {
   "cell_type": "markdown",
   "metadata": {},
   "source": [
    "## Part III (Static Replication)"
   ]
  },
  {
   "cell_type": "markdown",
   "metadata": {},
   "source": [
    "## Data Handling"
   ]
  },
  {
   "cell_type": "code",
   "execution_count": 34,
   "id": "58693e5a",
   "metadata": {},
   "outputs": [],
   "source": [
    "import datetime as dt\n",
    "import pandas as pd\n",
    "from pprint import pprint\n",
    "import numpy as np\n",
    "import pandas\n",
    "from scipy.interpolate import interp1d\n",
    "from scipy.stats import norm\n",
    "from scipy.optimize import brentq\n",
    "from scipy.integrate import quad\n",
    "import matplotlib.pylab as plt"
   ]
  },
  {
   "cell_type": "code",
   "execution_count": 35,
   "metadata": {},
   "outputs": [
    {
     "data": {
      "text/html": [
       "<div>\n",
       "<style scoped>\n",
       "    .dataframe tbody tr th:only-of-type {\n",
       "        vertical-align: middle;\n",
       "    }\n",
       "\n",
       "    .dataframe tbody tr th {\n",
       "        vertical-align: top;\n",
       "    }\n",
       "\n",
       "    .dataframe thead th {\n",
       "        text-align: right;\n",
       "    }\n",
       "</style>\n",
       "<table border=\"1\" class=\"dataframe\">\n",
       "  <thead>\n",
       "    <tr style=\"text-align: right;\">\n",
       "      <th></th>\n",
       "      <th>date</th>\n",
       "      <th>exdate</th>\n",
       "      <th>cp_flag</th>\n",
       "      <th>strike_price</th>\n",
       "      <th>best_bid</th>\n",
       "      <th>best_offer</th>\n",
       "      <th>exercise_style</th>\n",
       "    </tr>\n",
       "  </thead>\n",
       "  <tbody>\n",
       "    <tr>\n",
       "      <th>0</th>\n",
       "      <td>20201201</td>\n",
       "      <td>20201218</td>\n",
       "      <td>C</td>\n",
       "      <td>100000</td>\n",
       "      <td>3547.6</td>\n",
       "      <td>3570.5</td>\n",
       "      <td>E</td>\n",
       "    </tr>\n",
       "    <tr>\n",
       "      <th>1</th>\n",
       "      <td>20201201</td>\n",
       "      <td>20201218</td>\n",
       "      <td>C</td>\n",
       "      <td>200000</td>\n",
       "      <td>3447.6</td>\n",
       "      <td>3470.5</td>\n",
       "      <td>E</td>\n",
       "    </tr>\n",
       "    <tr>\n",
       "      <th>2</th>\n",
       "      <td>20201201</td>\n",
       "      <td>20201218</td>\n",
       "      <td>C</td>\n",
       "      <td>300000</td>\n",
       "      <td>3347.7</td>\n",
       "      <td>3370.6</td>\n",
       "      <td>E</td>\n",
       "    </tr>\n",
       "  </tbody>\n",
       "</table>\n",
       "</div>"
      ],
      "text/plain": [
       "       date    exdate cp_flag  strike_price  best_bid  best_offer  \\\n",
       "0  20201201  20201218       C        100000    3547.6      3570.5   \n",
       "1  20201201  20201218       C        200000    3447.6      3470.5   \n",
       "2  20201201  20201218       C        300000    3347.7      3370.6   \n",
       "\n",
       "  exercise_style  \n",
       "0              E  \n",
       "1              E  \n",
       "2              E  "
      ]
     },
     "execution_count": 35,
     "metadata": {},
     "output_type": "execute_result"
    }
   ],
   "source": [
    "# Get SPX data\n",
    "\n",
    "spx_df = pd.read_csv('SPX_options.csv')\n",
    "spx_df.head(3)"
   ]
  },
  {
   "cell_type": "code",
   "execution_count": 36,
   "metadata": {},
   "outputs": [
    {
     "data": {
      "text/html": [
       "<div>\n",
       "<style scoped>\n",
       "    .dataframe tbody tr th:only-of-type {\n",
       "        vertical-align: middle;\n",
       "    }\n",
       "\n",
       "    .dataframe tbody tr th {\n",
       "        vertical-align: top;\n",
       "    }\n",
       "\n",
       "    .dataframe thead th {\n",
       "        text-align: right;\n",
       "    }\n",
       "</style>\n",
       "<table border=\"1\" class=\"dataframe\">\n",
       "  <thead>\n",
       "    <tr style=\"text-align: right;\">\n",
       "      <th></th>\n",
       "      <th>date</th>\n",
       "      <th>exdate</th>\n",
       "      <th>cp_flag</th>\n",
       "      <th>strike_price</th>\n",
       "      <th>best_bid</th>\n",
       "      <th>best_offer</th>\n",
       "      <th>exercise_style</th>\n",
       "      <th>mid_price</th>\n",
       "    </tr>\n",
       "  </thead>\n",
       "  <tbody>\n",
       "    <tr>\n",
       "      <th>0</th>\n",
       "      <td>20201201</td>\n",
       "      <td>20201218</td>\n",
       "      <td>C</td>\n",
       "      <td>100000</td>\n",
       "      <td>3547.6</td>\n",
       "      <td>3570.5</td>\n",
       "      <td>E</td>\n",
       "      <td>3559.05</td>\n",
       "    </tr>\n",
       "    <tr>\n",
       "      <th>1</th>\n",
       "      <td>20201201</td>\n",
       "      <td>20201218</td>\n",
       "      <td>C</td>\n",
       "      <td>200000</td>\n",
       "      <td>3447.6</td>\n",
       "      <td>3470.5</td>\n",
       "      <td>E</td>\n",
       "      <td>3459.05</td>\n",
       "    </tr>\n",
       "    <tr>\n",
       "      <th>2</th>\n",
       "      <td>20201201</td>\n",
       "      <td>20201218</td>\n",
       "      <td>C</td>\n",
       "      <td>300000</td>\n",
       "      <td>3347.7</td>\n",
       "      <td>3370.6</td>\n",
       "      <td>E</td>\n",
       "      <td>3359.15</td>\n",
       "    </tr>\n",
       "  </tbody>\n",
       "</table>\n",
       "</div>"
      ],
      "text/plain": [
       "       date    exdate cp_flag  strike_price  best_bid  best_offer  \\\n",
       "0  20201201  20201218       C        100000    3547.6      3570.5   \n",
       "1  20201201  20201218       C        200000    3447.6      3470.5   \n",
       "2  20201201  20201218       C        300000    3347.7      3370.6   \n",
       "\n",
       "  exercise_style  mid_price  \n",
       "0              E    3559.05  \n",
       "1              E    3459.05  \n",
       "2              E    3359.15  "
      ]
     },
     "execution_count": 36,
     "metadata": {},
     "output_type": "execute_result"
    }
   ],
   "source": [
    "# To SPX, add col: Mid Price\n",
    "\n",
    "spx_df['mid_price'] = (spx_df['best_bid'] + spx_df['best_offer']) / 2\n",
    "spx_df.head(3)"
   ]
  },
  {
   "cell_type": "code",
   "execution_count": 37,
   "metadata": {},
   "outputs": [
    {
     "data": {
      "text/html": [
       "<div>\n",
       "<style scoped>\n",
       "    .dataframe tbody tr th:only-of-type {\n",
       "        vertical-align: middle;\n",
       "    }\n",
       "\n",
       "    .dataframe tbody tr th {\n",
       "        vertical-align: top;\n",
       "    }\n",
       "\n",
       "    .dataframe thead th {\n",
       "        text-align: right;\n",
       "    }\n",
       "</style>\n",
       "<table border=\"1\" class=\"dataframe\">\n",
       "  <thead>\n",
       "    <tr style=\"text-align: right;\">\n",
       "      <th></th>\n",
       "      <th>date</th>\n",
       "      <th>exdate</th>\n",
       "      <th>cp_flag</th>\n",
       "      <th>strike_price</th>\n",
       "      <th>best_bid</th>\n",
       "      <th>best_offer</th>\n",
       "      <th>exercise_style</th>\n",
       "      <th>mid_price</th>\n",
       "      <th>K</th>\n",
       "    </tr>\n",
       "  </thead>\n",
       "  <tbody>\n",
       "    <tr>\n",
       "      <th>0</th>\n",
       "      <td>20201201</td>\n",
       "      <td>20201218</td>\n",
       "      <td>C</td>\n",
       "      <td>100000</td>\n",
       "      <td>3547.6</td>\n",
       "      <td>3570.5</td>\n",
       "      <td>E</td>\n",
       "      <td>3559.05</td>\n",
       "      <td>100.0</td>\n",
       "    </tr>\n",
       "    <tr>\n",
       "      <th>1</th>\n",
       "      <td>20201201</td>\n",
       "      <td>20201218</td>\n",
       "      <td>C</td>\n",
       "      <td>200000</td>\n",
       "      <td>3447.6</td>\n",
       "      <td>3470.5</td>\n",
       "      <td>E</td>\n",
       "      <td>3459.05</td>\n",
       "      <td>200.0</td>\n",
       "    </tr>\n",
       "    <tr>\n",
       "      <th>2</th>\n",
       "      <td>20201201</td>\n",
       "      <td>20201218</td>\n",
       "      <td>C</td>\n",
       "      <td>300000</td>\n",
       "      <td>3347.7</td>\n",
       "      <td>3370.6</td>\n",
       "      <td>E</td>\n",
       "      <td>3359.15</td>\n",
       "      <td>300.0</td>\n",
       "    </tr>\n",
       "  </tbody>\n",
       "</table>\n",
       "</div>"
      ],
      "text/plain": [
       "       date    exdate cp_flag  strike_price  best_bid  best_offer  \\\n",
       "0  20201201  20201218       C        100000    3547.6      3570.5   \n",
       "1  20201201  20201218       C        200000    3447.6      3470.5   \n",
       "2  20201201  20201218       C        300000    3347.7      3370.6   \n",
       "\n",
       "  exercise_style  mid_price      K  \n",
       "0              E    3559.05  100.0  \n",
       "1              E    3459.05  200.0  \n",
       "2              E    3359.15  300.0  "
      ]
     },
     "execution_count": 37,
     "metadata": {},
     "output_type": "execute_result"
    }
   ],
   "source": [
    "# To SPX, add col: K\n",
    "\n",
    "spx_df[\"K\"] = spx_df[\"strike_price\"]/1000\n",
    "spx_df.head(3)"
   ]
  },
  {
   "cell_type": "code",
   "execution_count": 38,
   "metadata": {},
   "outputs": [
    {
     "data": {
      "text/html": [
       "<div>\n",
       "<style scoped>\n",
       "    .dataframe tbody tr th:only-of-type {\n",
       "        vertical-align: middle;\n",
       "    }\n",
       "\n",
       "    .dataframe tbody tr th {\n",
       "        vertical-align: top;\n",
       "    }\n",
       "\n",
       "    .dataframe thead th {\n",
       "        text-align: right;\n",
       "    }\n",
       "</style>\n",
       "<table border=\"1\" class=\"dataframe\">\n",
       "  <thead>\n",
       "    <tr style=\"text-align: right;\">\n",
       "      <th></th>\n",
       "      <th>date</th>\n",
       "      <th>exdate</th>\n",
       "      <th>cp_flag</th>\n",
       "      <th>strike_price</th>\n",
       "      <th>best_bid</th>\n",
       "      <th>best_offer</th>\n",
       "      <th>exercise_style</th>\n",
       "      <th>mid_price</th>\n",
       "      <th>K</th>\n",
       "      <th>T</th>\n",
       "    </tr>\n",
       "  </thead>\n",
       "  <tbody>\n",
       "    <tr>\n",
       "      <th>0</th>\n",
       "      <td>2020-12-01</td>\n",
       "      <td>2020-12-18</td>\n",
       "      <td>C</td>\n",
       "      <td>100000</td>\n",
       "      <td>3547.6</td>\n",
       "      <td>3570.5</td>\n",
       "      <td>E</td>\n",
       "      <td>3559.05</td>\n",
       "      <td>100.0</td>\n",
       "      <td>0.046575</td>\n",
       "    </tr>\n",
       "    <tr>\n",
       "      <th>1</th>\n",
       "      <td>2020-12-01</td>\n",
       "      <td>2020-12-18</td>\n",
       "      <td>C</td>\n",
       "      <td>200000</td>\n",
       "      <td>3447.6</td>\n",
       "      <td>3470.5</td>\n",
       "      <td>E</td>\n",
       "      <td>3459.05</td>\n",
       "      <td>200.0</td>\n",
       "      <td>0.046575</td>\n",
       "    </tr>\n",
       "    <tr>\n",
       "      <th>2</th>\n",
       "      <td>2020-12-01</td>\n",
       "      <td>2020-12-18</td>\n",
       "      <td>C</td>\n",
       "      <td>300000</td>\n",
       "      <td>3347.7</td>\n",
       "      <td>3370.6</td>\n",
       "      <td>E</td>\n",
       "      <td>3359.15</td>\n",
       "      <td>300.0</td>\n",
       "      <td>0.046575</td>\n",
       "    </tr>\n",
       "  </tbody>\n",
       "</table>\n",
       "</div>"
      ],
      "text/plain": [
       "        date     exdate cp_flag  strike_price  best_bid  best_offer  \\\n",
       "0 2020-12-01 2020-12-18       C        100000    3547.6      3570.5   \n",
       "1 2020-12-01 2020-12-18       C        200000    3447.6      3470.5   \n",
       "2 2020-12-01 2020-12-18       C        300000    3347.7      3370.6   \n",
       "\n",
       "  exercise_style  mid_price      K         T  \n",
       "0              E    3559.05  100.0  0.046575  \n",
       "1              E    3459.05  200.0  0.046575  \n",
       "2              E    3359.15  300.0  0.046575  "
      ]
     },
     "execution_count": 38,
     "metadata": {},
     "output_type": "execute_result"
    }
   ],
   "source": [
    "# To SPX, add T (duration in years)\n",
    "\n",
    "# Convert 'exdate' and 'date' columns to datetime\n",
    "spx_df['exdate'] = pd.to_datetime(spx_df['exdate'], format='%Y%m%d')\n",
    "spx_df['date'] = pd.to_datetime(spx_df['date'], format='%Y%m%d')\n",
    "\n",
    "# Calculate the duration in years for each row\n",
    "spx_df['T'] = (spx_df['exdate'] - spx_df['date']).dt.days / 365\n",
    "\n",
    "spx_df.head(3) "
   ]
  },
  {
   "cell_type": "code",
   "execution_count": 39,
   "metadata": {},
   "outputs": [
    {
     "data": {
      "text/html": [
       "<div>\n",
       "<style scoped>\n",
       "    .dataframe tbody tr th:only-of-type {\n",
       "        vertical-align: middle;\n",
       "    }\n",
       "\n",
       "    .dataframe tbody tr th {\n",
       "        vertical-align: top;\n",
       "    }\n",
       "\n",
       "    .dataframe thead th {\n",
       "        text-align: right;\n",
       "    }\n",
       "</style>\n",
       "<table border=\"1\" class=\"dataframe\">\n",
       "  <thead>\n",
       "    <tr style=\"text-align: right;\">\n",
       "      <th></th>\n",
       "      <th>date</th>\n",
       "      <th>days</th>\n",
       "      <th>rate</th>\n",
       "    </tr>\n",
       "  </thead>\n",
       "  <tbody>\n",
       "    <tr>\n",
       "      <th>0</th>\n",
       "      <td>20201201</td>\n",
       "      <td>7</td>\n",
       "      <td>0.102280</td>\n",
       "    </tr>\n",
       "    <tr>\n",
       "      <th>1</th>\n",
       "      <td>20201201</td>\n",
       "      <td>13</td>\n",
       "      <td>0.114128</td>\n",
       "    </tr>\n",
       "    <tr>\n",
       "      <th>2</th>\n",
       "      <td>20201201</td>\n",
       "      <td>49</td>\n",
       "      <td>0.216480</td>\n",
       "    </tr>\n",
       "  </tbody>\n",
       "</table>\n",
       "</div>"
      ],
      "text/plain": [
       "       date  days      rate\n",
       "0  20201201     7  0.102280\n",
       "1  20201201    13  0.114128\n",
       "2  20201201    49  0.216480"
      ]
     },
     "execution_count": 39,
     "metadata": {},
     "output_type": "execute_result"
    }
   ],
   "source": [
    "rates_df = pd.read_csv('zero_rates_20201201.csv')\n",
    "rates_df.head(3)"
   ]
  },
  {
   "cell_type": "code",
   "execution_count": 40,
   "metadata": {},
   "outputs": [],
   "source": [
    "# SABR\n",
    "\n",
    "def SABR(F, K, T, alpha, beta, rho, nu):\n",
    "    X = K\n",
    "    # if K is at-the-money-forward\n",
    "    if abs(F - K) < 1e-12:\n",
    "        numer1 = (((1 - beta)**2)/24)*alpha*alpha/(F**(2 - 2*beta))\n",
    "        numer2 = 0.25*rho*beta*nu*alpha/(F**(1 - beta))\n",
    "        numer3 = ((2 - 3*rho*rho)/24)*nu*nu\n",
    "        VolAtm = alpha*(1 + (numer1 + numer2 + numer3)*T)/(F**(1-beta))\n",
    "        sabrsigma = VolAtm\n",
    "    else:\n",
    "        z = (nu/alpha)*((F*X)**(0.5*(1-beta)))*np.log(F/X)\n",
    "        zhi = np.log((((1 - 2*rho*z + z*z)**0.5) + z - rho)/(1 - rho))\n",
    "        numer1 = (((1 - beta)**2)/24)*((alpha*alpha)/((F*X)**(1 - beta)))\n",
    "        numer2 = 0.25*rho*beta*nu*alpha/((F*X)**((1 - beta)/2))\n",
    "        numer3 = ((2 - 3*rho*rho)/24)*nu*nu\n",
    "        numer = alpha*(1 + (numer1 + numer2 + numer3)*T)*z\n",
    "        denom1 = ((1 - beta)**2/24)*(np.log(F/X))**2\n",
    "        denom2 = (((1 - beta)**4)/1920)*((np.log(F/X))**4)\n",
    "        denom = ((F*X)**((1 - beta)/2))*(1 + denom1 + denom2)*zhi\n",
    "        sabrsigma = numer/denom\n",
    "\n",
    "    return sabrsigma\n"
   ]
  },
  {
   "cell_type": "markdown",
   "metadata": {},
   "source": [
    "## Set Parameters"
   ]
  },
  {
   "cell_type": "code",
   "execution_count": 41,
   "metadata": {},
   "outputs": [
    {
     "data": {
      "text/plain": [
       "0.1232876712328767"
      ]
     },
     "execution_count": 41,
     "metadata": {},
     "output_type": "execute_result"
    }
   ],
   "source": [
    "# Get Duration in Years: From 1-Dec-2020 To 15-Jan-2021\n",
    "\n",
    "today = dt.date(2020, 12, 1)\n",
    "expiry = dt.date(2021, 1, 15)\n",
    "T = (expiry - today).days / 365\n",
    "T"
   ]
  },
  {
   "cell_type": "code",
   "execution_count": 42,
   "metadata": {},
   "outputs": [
    {
     "data": {
      "text/plain": [
       "3660.0"
      ]
     },
     "execution_count": 42,
     "metadata": {},
     "output_type": "execute_result"
    }
   ],
   "source": [
    "# For SPX, Get nearest K to Spot of 3662.45\n",
    "\n",
    "S = 3662.45\n",
    "closest_strike_index = spx_df['K'].sub(S).abs().idxmin()\n",
    "K = spx_df.iloc[closest_strike_index]['K']\n",
    "\n",
    "K"
   ]
  },
  {
   "cell_type": "code",
   "execution_count": 43,
   "metadata": {},
   "outputs": [
    {
     "data": {
      "text/html": [
       "<div>\n",
       "<style scoped>\n",
       "    .dataframe tbody tr th:only-of-type {\n",
       "        vertical-align: middle;\n",
       "    }\n",
       "\n",
       "    .dataframe tbody tr th {\n",
       "        vertical-align: top;\n",
       "    }\n",
       "\n",
       "    .dataframe thead th {\n",
       "        text-align: right;\n",
       "    }\n",
       "</style>\n",
       "<table border=\"1\" class=\"dataframe\">\n",
       "  <thead>\n",
       "    <tr style=\"text-align: right;\">\n",
       "      <th></th>\n",
       "      <th>date</th>\n",
       "      <th>exdate</th>\n",
       "      <th>cp_flag</th>\n",
       "      <th>strike_price</th>\n",
       "      <th>best_bid</th>\n",
       "      <th>best_offer</th>\n",
       "      <th>exercise_style</th>\n",
       "      <th>mid_price</th>\n",
       "      <th>K</th>\n",
       "      <th>T</th>\n",
       "    </tr>\n",
       "  </thead>\n",
       "  <tbody>\n",
       "    <tr>\n",
       "      <th>1109</th>\n",
       "      <td>2020-12-01</td>\n",
       "      <td>2021-01-15</td>\n",
       "      <td>C</td>\n",
       "      <td>3660000</td>\n",
       "      <td>94.5</td>\n",
       "      <td>95.4</td>\n",
       "      <td>E</td>\n",
       "      <td>94.95</td>\n",
       "      <td>3660.0</td>\n",
       "      <td>0.123288</td>\n",
       "    </tr>\n",
       "    <tr>\n",
       "      <th>1478</th>\n",
       "      <td>2020-12-01</td>\n",
       "      <td>2021-01-15</td>\n",
       "      <td>P</td>\n",
       "      <td>3660000</td>\n",
       "      <td>94.8</td>\n",
       "      <td>95.5</td>\n",
       "      <td>E</td>\n",
       "      <td>95.15</td>\n",
       "      <td>3660.0</td>\n",
       "      <td>0.123288</td>\n",
       "    </tr>\n",
       "  </tbody>\n",
       "</table>\n",
       "</div>"
      ],
      "text/plain": [
       "           date     exdate cp_flag  strike_price  best_bid  best_offer  \\\n",
       "1109 2020-12-01 2021-01-15       C       3660000      94.5        95.4   \n",
       "1478 2020-12-01 2021-01-15       P       3660000      94.8        95.5   \n",
       "\n",
       "     exercise_style  mid_price       K         T  \n",
       "1109              E      94.95  3660.0  0.123288  \n",
       "1478              E      95.15  3660.0  0.123288  "
      ]
     },
     "execution_count": 43,
     "metadata": {},
     "output_type": "execute_result"
    }
   ],
   "source": [
    "# Check SPX mid_price where K = 243 & T = T\n",
    "\n",
    "spx_df[(spx_df[\"K\"] == 3660) & (spx_df[\"T\"] == T)]"
   ]
  },
  {
   "cell_type": "markdown",
   "metadata": {},
   "source": [
    "> From the output above, SPX has both Call & Put options matching K = 3660 & T = 0.123288 years"
   ]
  },
  {
   "cell_type": "markdown",
   "metadata": {},
   "source": [
    "> From the output above, SPY has both Call & Put options matching K = 243 & T = 0.123288 years"
   ]
  },
  {
   "cell_type": "code",
   "execution_count": 44,
   "metadata": {},
   "outputs": [],
   "source": [
    "price_SPX_call = 94.95\n",
    "price_SPX_put = 95.15"
   ]
  },
  {
   "cell_type": "code",
   "execution_count": 63,
   "metadata": {},
   "outputs": [
    {
     "name": "stdout",
     "output_type": "stream",
     "text": [
      "The interpolated 'r' is: 0.0020510755555555554\n"
     ]
    }
   ],
   "source": [
    "# Get interpolated r for given duration T\n",
    "\n",
    "days = rates_df['days'].values\n",
    "rates = rates_df['rate'].values\n",
    "\n",
    "# Create a linear interpolation function\n",
    "interp_func = interp1d(days, rates, kind='linear')\n",
    "\n",
    "# Interpolate the rate for 45 days\n",
    "r = interp_func(T*365)/100\n",
    "\n",
    "print(f\"The interpolated 'r' is: {r}\")"
   ]
  },
  {
   "cell_type": "code",
   "execution_count": 46,
   "metadata": {},
   "outputs": [
    {
     "name": "stdout",
     "output_type": "stream",
     "text": [
      "S = 3662.45, K = 3660.0, r = 0.0020510755555555554, Call price = 94.95, Put price = 95.15, T = 0.1232876712328767.\n"
     ]
    }
   ],
   "source": [
    "print(f\"S = {S}, K = {K}, r = {r}, Call price = {price_SPX_call}, Put price = {price_SPX_put}, T = {T}.\")"
   ]
  },
  {
   "cell_type": "markdown",
   "metadata": {},
   "source": [
    "## Value via Black-Scholes Model"
   ]
  },
  {
   "cell_type": "markdown",
   "metadata": {},
   "source": [
    "> Method 1: Use ATM Implied Volatility --> Value function"
   ]
  },
  {
   "cell_type": "code",
   "execution_count": 47,
   "metadata": {},
   "outputs": [],
   "source": [
    "# Black-Scholes Call\n",
    "\n",
    "def BlackScholesCall(S, K, r, sigma, T):\n",
    "    d1 = (np.log(S/K)+(r+sigma**2/2)*T) / (sigma*np.sqrt(T))\n",
    "    d2 = d1 - sigma*np.sqrt(T)\n",
    "    return S*norm.cdf(d1) - K*np.exp(-r*T)*norm.cdf(d2)\n",
    "\n",
    "# Black-Scholes Put\n",
    "\n",
    "def BlackScholesPut(S, K, r, sigma, T):\n",
    "    d1 = (np.log(S/K)+(r+sigma**2/2)*(T)) / (sigma*np.sqrt(T))\n",
    "    d2 = d1 - sigma*np.sqrt(T)\n",
    "    return K*np.exp(-r*(T))*norm.cdf(-d2) - S*norm.cdf(-d1)"
   ]
  },
  {
   "cell_type": "code",
   "execution_count": 48,
   "metadata": {},
   "outputs": [],
   "source": [
    "# Define Implied Call Volatility from B-S Model\n",
    "\n",
    "def impliedCallVolatility(S, K, r, price, T):\n",
    "    try:\n",
    "        impliedVol = brentq(lambda x: price -\n",
    "                            BlackScholesCall(S, K, r, x, T),\n",
    "                            1e-6, 1)\n",
    "    except Exception:\n",
    "        impliedVol = np.nan\n",
    "\n",
    "    return impliedVol\n",
    "\n",
    "# Define Implied Put Volatility from B-S Model\n",
    "\n",
    "def impliedPutVolatility(S, K, r, price, T):\n",
    "    try:\n",
    "        impliedVol = brentq(lambda x: price -\n",
    "                        BlackScholesPut(S, K, r, x, T),\n",
    "                        1e-6, 1)\n",
    "    except Exception:\n",
    "        impliedVol = np.nan\n",
    "\n",
    "    return impliedVol"
   ]
  },
  {
   "cell_type": "code",
   "execution_count": 49,
   "metadata": {},
   "outputs": [
    {
     "name": "stdout",
     "output_type": "stream",
     "text": [
      "The Black-Scholes Implied Volatility for the Call is: 0.18188348370668755\n",
      "The Black-Scholes Implied Volatility for the Put is: 0.18886028486825987\n"
     ]
    }
   ],
   "source": [
    "\n",
    "impliedVol_call = impliedCallVolatility(S=S, K=K, r=r, price=price_SPX_call, T=T)\n",
    "impliedVol_put = impliedPutVolatility(S,K,r,price_SPX_put,T)\n",
    "\n",
    "print(f\"The Black-Scholes Implied Volatility for the Call is: {impliedVol_call}\")\n",
    "print(f\"The Black-Scholes Implied Volatility for the Put is: {impliedVol_put}\")"
   ]
  },
  {
   "cell_type": "code",
   "execution_count": 50,
   "metadata": {},
   "outputs": [
    {
     "name": "stdout",
     "output_type": "stream",
     "text": [
      "The Call Derivative value via Black-Scholes, using ATM Implied Volatility, is: 37.70523431801233\n",
      "The Put Derivative value via Black-Scholes, using ATM Implied Volatility, is: 37.704449380920934\n"
     ]
    }
   ],
   "source": [
    "def value_bsm(S,r,T,sigma):\n",
    "    integrand = lambda x:(((S**(1/3))*np.exp((1/3)*(r - (sigma**2)/2)*T + (1/3)*sigma*np.sqrt(T)*x) + 1.5*(np.log(S) + (r - (sigma**2)/2)*T + sigma*np.sqrt(T)*x) + 10) * np.exp(-(x**2)/2))\n",
    "    value = np.exp(-r*T)/np.sqrt(2*np.pi) * quad(integrand, -(np.inf), np.inf)[0]\n",
    "    return value\n",
    "\n",
    "value_bs_1_call = value_bsm(S,r,T,impliedVol_call)\n",
    "value_bs_1_put = value_bsm(S,r,T,impliedVol_put)\n",
    "\n",
    "print(f\"The Call Derivative value via Black-Scholes, using ATM Implied Volatility, is: {value_bs_1_call}\")\n",
    "print(f\"The Put Derivative value via Black-Scholes, using ATM Implied Volatility, is: {value_bs_1_put}\")"
   ]
  },
  {
   "cell_type": "markdown",
   "metadata": {},
   "source": [
    "> Method 2: Use B-S Call & Put Prices -->  Get Model-Free Integrated Variance --> Value function"
   ]
  },
  {
   "cell_type": "code",
   "execution_count": 51,
   "metadata": {},
   "outputs": [],
   "source": [
    "# Black Scholes Model Integrated Variance Function\n",
    "def callintegrand_BSM(K, S, r, T, sigma):\n",
    "    price = BlackScholesCall(S, K, r, sigma, T) / K**2\n",
    "    return price\n",
    "\n",
    "def putintegrand_BSM(K, S, r, T, sigma):\n",
    "    price = BlackScholesPut(S, K, r, sigma, T) / K**2\n",
    "    return price"
   ]
  },
  {
   "cell_type": "code",
   "execution_count": 52,
   "metadata": {},
   "outputs": [
    {
     "name": "stdout",
     "output_type": "stream",
     "text": [
      "The Black-Scholes Integrated Variance is: 0.004242141853643472\n",
      "The Black-Scholes Model-Free Volatility is: 0.18549523962624231\n"
     ]
    }
   ],
   "source": [
    "F = S * np.exp(r*T)\n",
    "I_put = quad(lambda x: putintegrand_BSM(x, S, r, T, impliedVol_put), 0.0, F)\n",
    "I_call = quad(lambda x: callintegrand_BSM(x, S, r, T, impliedVol_call), F, 5000)\n",
    "E_var_BSM = 2*np.exp(r*T)*(I_put[0] + I_call[0])\n",
    "sigma_BSM = np.sqrt(E_var_BSM/T)\n",
    "\n",
    "print(f\"The Black-Scholes Integrated Variance is: {E_var_BSM}\")\n",
    "print(f\"The Black-Scholes Model-Free Volatility is: {sigma_BSM}\")"
   ]
  },
  {
   "cell_type": "code",
   "execution_count": 53,
   "metadata": {},
   "outputs": [
    {
     "name": "stdout",
     "output_type": "stream",
     "text": [
      "The Derivative value via Black-Scholes, using Model-Free Volatility, is: 37.704831656940435\n"
     ]
    }
   ],
   "source": [
    "value_bs_2_SPX = value_bsm(S,r,T,sigma_BSM)\n",
    "\n",
    "print(f\"The Derivative value via Black-Scholes, using Model-Free Volatility, is: {value_bs_2_SPX}\")"
   ]
  },
  {
   "cell_type": "markdown",
   "metadata": {},
   "source": [
    "## Pricing via Bachelier Model"
   ]
  },
  {
   "cell_type": "markdown",
   "metadata": {},
   "source": [
    "> Method 1: Use Implied Volatility --> Value Function"
   ]
  },
  {
   "cell_type": "code",
   "execution_count": 54,
   "metadata": {},
   "outputs": [],
   "source": [
    "# Bachelier Call\n",
    "\n",
    "def BachelierCall(S, K, r, sigma, T):\n",
    "    result = (S - K)/ (sigma *np.sqrt(T))\n",
    "    return np.exp(-r*(T)) * ((S-K) * norm.cdf(result) + sigma * np.sqrt(T) * norm.pdf(result))\n",
    "\n",
    "# Bachelier Put\n",
    "\n",
    "def BachelierPut(S, K, r, sigma,T):\n",
    "    result = (K - S)/ (sigma *np.sqrt(T))\n",
    "    return np.exp(-r*(T)) * ((K - S) * norm.cdf(result) + sigma * np.sqrt(T) * norm.pdf(result))"
   ]
  },
  {
   "cell_type": "code",
   "execution_count": 55,
   "metadata": {},
   "outputs": [
    {
     "name": "stdout",
     "output_type": "stream",
     "text": [
      "The Call Derivative value via Bachelier, using ATM Implied Volatility, is: 37.71359681718632\n",
      "The Put Derivative value via Bachelier, using ATM Implied Volatility, is: 37.71359681712779\n"
     ]
    }
   ],
   "source": [
    "# Execute S = 3662.45, K = 3660, T = 45/365 years, r = 0.0020510756\n",
    "\n",
    "impliedVol_call = impliedCallVolatility(S=S, K=K, r=r, price=price_SPX_call, T=T)\n",
    "impliedVol_put = impliedPutVolatility(S=S, K=K, r=r, price=price_SPX_put, T=T)\n",
    "\n",
    "def value_b(S,r,T,sigma):\n",
    "    integrand = lambda x:((S + sigma*np.sqrt(T)*x)**(1/3) + 1.5*np.log(S + sigma*np.sqrt(T)*x) + 10) * np.exp(-(x**2)/2)\n",
    "    value = np.exp(-r*T)/np.sqrt(2*np.pi) * quad(integrand, -(np.inf), np.inf)[0]\n",
    "    return value\n",
    "\n",
    "value_b_1_call = value_b(S,r,T,impliedVol_call)\n",
    "value_b_1_put = value_b(S,r,T,impliedVol_put)\n",
    "\n",
    "\n",
    "print(f\"The Call Derivative value via Bachelier, using ATM Implied Volatility, is: {value_b_1_call}\")\n",
    "print(f\"The Put Derivative value via Bachelier, using ATM Implied Volatility, is: {value_b_1_put}\")"
   ]
  },
  {
   "cell_type": "markdown",
   "metadata": {},
   "source": [
    "> Method 2: Use Bachelier Call & Put Prices -->  Get Model-Free Integrated Variance --> Value function"
   ]
  },
  {
   "cell_type": "code",
   "execution_count": 56,
   "metadata": {},
   "outputs": [],
   "source": [
    "# Black Scholes Model Integrated Variance Function\n",
    "def callintegrand_B(K, S, r, T, sigma):\n",
    "    price = BachelierCall(S, K, r, sigma, T) / K**2\n",
    "    return price\n",
    "\n",
    "def putintegrand_B(K, S, r, T, sigma):\n",
    "    price = BachelierPut(S, K, r, sigma, T) / K**2\n",
    "    return price"
   ]
  },
  {
   "cell_type": "code",
   "execution_count": 57,
   "metadata": {},
   "outputs": [],
   "source": [
    "F = S * np.exp(r*T)\n",
    "I_put = quad(lambda x: putintegrand_B(x, S, r, T, impliedVol_put), 0.0, F)\n",
    "I_call = quad(lambda x: callintegrand_B(x, S, r, T, impliedVol_call), F, 5000)\n",
    "E_var_B = 2*np.exp(r*T)*(I_put[0] + I_call[0])\n",
    "sigma_B = np.sqrt(E_var_B/T)\n"
   ]
  },
  {
   "cell_type": "code",
   "execution_count": 58,
   "metadata": {},
   "outputs": [
    {
     "name": "stdout",
     "output_type": "stream",
     "text": [
      "The Derivative value via Bachelier, using Integrated Variance, is: 37.71359681793495\n"
     ]
    }
   ],
   "source": [
    "value_b_2 = value_b(S,r,T,sigma_B)\n",
    "\n",
    "print(f\"The Derivative value via Bachelier, using Integrated Variance, is: {value_b_2}\")"
   ]
  },
  {
   "cell_type": "markdown",
   "metadata": {},
   "source": [
    "## Pricing via Static Replication"
   ]
  },
  {
   "cell_type": "code",
   "execution_count": 59,
   "metadata": {},
   "outputs": [],
   "source": [
    "def SABRCall(S, K, r, alpha, beta, rho, nu, T):\n",
    "    sabr_vol = SABR(S*np.exp(r*T), K, T, alpha, beta, rho, nu)\n",
    "    return BlackScholesCall(S, K, r, sabr_vol, T)\n",
    "\n",
    "\n",
    "def SABRPut(S, K, r, alpha, beta, rho, nu, T):\n",
    "    sabr_vol = SABR(S*np.exp(r*T), K, T, alpha, beta, rho, nu)\n",
    "    return BlackScholesPut(S, K, r, sabr_vol, T)\n",
    "\n",
    "\n",
    "def sabrcallintegrand(K, S, r, T, alpha, beta, rho, nu):\n",
    "    price = SABRCall(S, K, r, alpha, beta, rho, nu, T) / K**2\n",
    "    return price\n",
    "\n",
    "\n",
    "def sabrputintegrand(K, S, r, T, alpha, beta, rho, nu):\n",
    "    price = SABRPut(S, K, r, alpha, beta, rho, nu, T) / K**2\n",
    "    return price"
   ]
  },
  {
   "cell_type": "code",
   "execution_count": 60,
   "metadata": {},
   "outputs": [
    {
     "name": "stdout",
     "output_type": "stream",
     "text": [
      "The SABR Integrated Variance is: 0.006337324864089065\n",
      "The SABR Model-Free Volatility is: 0.2267217372018694\n"
     ]
    }
   ],
   "source": [
    "# Execute with SABR (45 days) values from Part II\n",
    "\n",
    "alpha = 1.817\n",
    "beta = 0.7\n",
    "rho = -0.404\n",
    "nu = 2.790\n",
    "\n",
    "F = S * np.exp(r*T)\n",
    "I_put = quad(lambda x: sabrputintegrand(x, S, r, T, alpha, beta, rho, nu), 1e-6, F)\n",
    "I_call = quad(lambda x: sabrcallintegrand(x, S, r, T, alpha, beta, rho, nu), F, 5000)\n",
    "E_var_SABR = 2*np.exp(r*T)*(I_put[0] + I_call[0])\n",
    "sigma_SABR = np.sqrt(E_var_SABR/T)\n",
    "\n",
    "print(f\"The SABR Integrated Variance is: {E_var_SABR}\")\n",
    "print(f\"The SABR Model-Free Volatility is: {sigma_SABR}\")"
   ]
  },
  {
   "cell_type": "code",
   "execution_count": 61,
   "metadata": {},
   "outputs": [
    {
     "name": "stdout",
     "output_type": "stream",
     "text": [
      "The Derivative value via Static Replication, using Black-Scholes for the Call & Put prices is: 37.699613637477576\n"
     ]
    }
   ],
   "source": [
    "# express h(F)\n",
    "hF = F**(1/3) + 1.5*np.log(F) + 10\n",
    "\n",
    "# express h''(F)\n",
    "hF_dbl_prime = -(2/9)*F**(-5/3) - 1.5/(F**2)\n",
    "\n",
    "# express put & call integrands\n",
    "def put_integrand_CM(F,S,K,r,sigma,T): \n",
    "    integrand = hF_dbl_prime * BlackScholesPut(F,K,r,sigma,T)\n",
    "    return integrand\n",
    "\n",
    "def call_integrand_CM(F,S,K,r,sigma,T): \n",
    "    integrand = hF_dbl_prime * BlackScholesCall(F,K,r,sigma,T)\n",
    "    return integrand\n",
    "\n",
    "\n",
    "I_put = quad(lambda x:put_integrand_CM(F,S,x,r,sigma_SABR,T),0,F)\n",
    "I_call = quad(lambda x:call_integrand_CM(F,S,x,r,sigma_SABR,T),F,5000)\n",
    "\n",
    "value_SR_1 = np.exp(-r*T)*hF + I_put[0] + I_call[0]\n",
    "\n",
    "print(f\"The Derivative value via Static Replication, using Black-Scholes for the Call & Put prices is: {value_SR_1}\")"
   ]
  },
  {
   "cell_type": "code",
   "execution_count": 62,
   "metadata": {},
   "outputs": [
    {
     "name": "stdout",
     "output_type": "stream",
     "text": [
      "The Derivative value via Static Replication, using Bachelier for the Call & Put prices is: 37.71527504035332\n"
     ]
    }
   ],
   "source": [
    "# express h(F)\n",
    "hF = F**(1/3) + 1.5*np.log(F) + 10\n",
    "\n",
    "# express h''(F)\n",
    "hF_dbl_prime = -(2/9)*F**(-5/3) - 1.5/(F**2)\n",
    "\n",
    "# express put & call integrands\n",
    "def put_integrand_CM(F,S,K,r,sigma,T): \n",
    "    integrand = hF_dbl_prime * BachelierPut(F,K,r,sigma,T)\n",
    "    return integrand\n",
    "\n",
    "def call_integrand_CM(F,S,K,r,sigma,T): \n",
    "    integrand = hF_dbl_prime * BachelierCall(F,K,r,sigma,T)\n",
    "    return integrand\n",
    "\n",
    "\n",
    "I_put = quad(lambda x:put_integrand_CM(F,S,x,r,sigma_SABR,T),0,F)\n",
    "I_call = quad(lambda x:call_integrand_CM(F,S,x,r,sigma_SABR,T),F,5000)\n",
    "\n",
    "value_SR_2 = np.exp(-r*T)*hF + I_put[0] + I_call[0]\n",
    "\n",
    "print(f\"The Derivative value via Static Replication, using Bachelier for the Call & Put prices is: {value_SR_2}\")"
   ]
  }
 ],
 "metadata": {
  "kernelspec": {
   "display_name": "Python 3 (ipykernel)",
   "language": "python",
   "name": "python3"
  },
  "language_info": {
   "codemirror_mode": {
    "name": "ipython",
    "version": 3
   },
   "file_extension": ".py",
   "mimetype": "text/x-python",
   "name": "python",
   "nbconvert_exporter": "python",
   "pygments_lexer": "ipython3",
   "version": "3.11.3"
  }
 },
 "nbformat": 4,
 "nbformat_minor": 5
}
